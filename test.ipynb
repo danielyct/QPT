{
 "cells": [
  {
   "cell_type": "code",
   "execution_count": 3,
   "metadata": {},
   "outputs": [],
   "source": [
    "import ising_model as ising\n",
    "import ssh_model as ssh\n",
    "import long_range_ssh as lrssh\n",
    "import numpy as np\n",
    "import matplotlib.pyplot as plt "
   ]
  },
  {
   "cell_type": "code",
   "execution_count": null,
   "metadata": {},
   "outputs": [],
   "source": [
    "def find_fid(size, delta, **kwargs):\n",
    "    h_list = np.linspace(-5, 5, sample_no)\n",
    "    F = []\n",
    "    sus = []\n",
    "    degen = 0\n",
    "    for i,h in enumerate(h_list):   # y-axis\n",
    "        temp_F = []\n",
    "        for j,k in enumerate(h_list):   # x-axis\n",
    "            degen_1, s_1 = lrssh.states(L = size, U = k, V = h, **kwargs)\n",
    "            degen_2, s_2 = lrssh.states(L = size, U = k+delta, V = h, **kwargs)\n",
    "            fidelity = abs(np.dot(s_1,s_2))\n",
    "            temp_F.append(fidelity)\n",
    "            print(\"size: \" + str(size) + \"  sample no.: \", str(i), str(j))\n",
    "        F.append(temp_F)\n",
    "    return F, h_list\n"
   ]
  },
  {
   "cell_type": "code",
   "execution_count": null,
   "metadata": {},
   "outputs": [],
   "source": [
    "x = np.arange(-8,8,2)\n",
    "for dp in x:\n",
    "    E, V = lrssh.states(L = 4, eta = 0.6, U = 0, V = dp, c = 0, d = 0)\n",
    "    print(E)"
   ]
  },
  {
   "cell_type": "code",
   "execution_count": null,
   "metadata": {},
   "outputs": [],
   "source": [
    "import long_range_ssh as mine\n",
    "import kenny_lrssh as kenny"
   ]
  },
  {
   "cell_type": "code",
   "execution_count": null,
   "metadata": {},
   "outputs": [],
   "source": [
    "L = 6\n",
    "eta = -0.6\n",
    "c = 0\n",
    "d = 0\n",
    "U = 0\n",
    "V = -4\n",
    "\n",
    "E_k, V_k = kenny.psi(c,d,2*L,U,V,eta)\n",
    "E_m, V_m = mine.states(L,eta,c,d,U,V)\n",
    "\n",
    "print(E_k - E_m)\n",
    "print(V_k[0])\n",
    "print(V_m[0])\n",
    "\n",
    "print(abs(round(np.dot(V_k, V_m))) == 1)\n",
    "\n",
    "print(E_m)"
   ]
  },
  {
   "cell_type": "code",
   "execution_count": null,
   "metadata": {},
   "outputs": [],
   "source": [
    "size = np.linspace(0,100)\n",
    "arr = []\n",
    "for i in size:\n",
    "    temp_k= []\n",
    "    for j in size:\n",
    "        k = i**2 + j\n",
    "        temp_k.append(k)\n",
    "    arr.append(temp_k)\n",
    "    "
   ]
  },
  {
   "cell_type": "code",
   "execution_count": null,
   "metadata": {},
   "outputs": [],
   "source": [
    "np.save('data/test_F.npy', arr)\n",
    "np.save('data/test_x.npy', size)"
   ]
  },
  {
   "cell_type": "code",
   "execution_count": null,
   "metadata": {},
   "outputs": [],
   "source": [
    "arr = np.random.rand(6,6)\n",
    "arr"
   ]
  },
  {
   "cell_type": "code",
   "execution_count": null,
   "metadata": {},
   "outputs": [],
   "source": [
    "arr[0,0]"
   ]
  },
  {
   "cell_type": "code",
   "execution_count": 13,
   "metadata": {},
   "outputs": [],
   "source": [
    "from quspin.operators import hamiltonian # Hamiltonians and operators\n",
    "from quspin.basis import spinless_fermion_basis_1d # Hilbert space spin basis\n",
    "import numpy as np # generic math functions\n",
    "from scipy.sparse.linalg import eigsh\n",
    "from scipy.sparse import csr_matrix\n",
    "import time\n",
    "\n",
    "os.environ['OMP_NUM_THREADS'] = '8' # set number of OpenMP threads to run in parallel\n",
    "os.environ['MKL_NUM_THREADS'] = '8' # set number of MKL threads to run in parallel\n",
    "os.environ['MKL_DEBUG_CPU_TYPE'] = '5' # utilize AVX2\n",
    "\n",
    "def states(L,eta = 0, c = 1, d = 1, U = 0, V = 0):\n",
    "\n",
    "    start = time.perf_counter()\n",
    "    \n",
    "    N = 2 * L\n",
    "    basis=spinless_fermion_basis_1d(N, Nf = L)\n",
    "    a = -(1+eta)\n",
    "    b = -(1-eta)\n",
    "    \n",
    "    I1 = [[U,i,(i+1)%L] for i in range(0,L,2)]\n",
    "    I2 = [[V,(i+1)%L,(i+2)%L] for i in range(0,L,2)]\n",
    "\n",
    "    tA = [[+a,i,(i+1)%L] for i in range(0,L,2)]\n",
    "    ta = [[-a,i,(i+1)%L] for i in range(0,L,2)]\n",
    "\n",
    "    tB = [[+b,(i+1)%L,(i+2)%L] for i in range(0,L,2)]\n",
    "    tb = [[-b,(i+1)%L,(i+2)%L] for i in range(0,L,2)]\n",
    "    \n",
    "    tC = [[+c,i,(i+3)%L] for i in range(0,L,2)]\n",
    "    tc = [[-c,i,(i+3)%L] for i in range(0,L,2)]\n",
    "    \n",
    "    tD = [[+d,(i+1)%L,(i+4)%L] for i in range(0,L,2)]\n",
    "    td = [[-d,(i+1)%L,(i+4)%L] for i in range(0,L,2)]\n",
    "\n",
    "    static=[[\"nn\",I1],[\"nn\",I2],[\"+-\",tA],[\"-+\",ta],[\"+-\",tB],[\"-+\",tb],[\"+-\",tC],[\"-+\",tc],[\"+-\",tD],[\"-+\",td]]\n",
    "    dynamic=[]\n",
    "\n",
    "    no_checks = dict(check_pcon=False,check_symm=False,check_herm=False)\n",
    "    H=hamiltonian(static, dynamic, basis=basis, dtype=np.float64,**no_checks)\n",
    "    DH = csr_matrix.todense(H)\n",
    "    print(DH.size)\n",
    "    con = time.perf_counter()\n",
    "    ham = con - start\n",
    "\n",
    "    E,V = eigsh(H.aslinearoperator(time=t0),k=4,which=\"SA\")\n",
    "    end = time.perf_counter()\n",
    "    eigen = end - con\n",
    "    return E, V[:,0], ham, eigen\n"
   ]
  },
  {
   "cell_type": "code",
   "execution_count": 14,
   "metadata": {},
   "outputs": [],
   "source": [
    "from quspin.operators import hamiltonian # Hamiltonians and operators\n",
    "from quspin.basis import spin_basis_1d # Hilbert space spin basis\n",
    "import numpy as np # generic math functions\n",
    "\n",
    "\n",
    "# h:(0.25,2)\n",
    "\n",
    "def isingstates(L,h):\n",
    "\n",
    "    J = 1\n",
    "\n",
    "    J_x = [[-J, i, (i+1)%L] for i in range(L)]\n",
    "    h_z = [[-h, i] for i in range(L)]\n",
    "\n",
    "    static = [[\"xx\",J_x],[\"z\",h_z]]\n",
    "    dynamic = []\n",
    "\n",
    "    basis = spin_basis_1d(L = L)\n",
    "\n",
    "    no_checks = dict(check_pcon=False,check_symm=False,check_herm=False)\n",
    "    H = hamiltonian(static, dynamic, dtype=np.float64, basis = basis, **no_checks)\n",
    "\n",
    "    E,V = H.eigsh(k = 1, which = 'SA')\n",
    "    print(csr_matrix.todense(H).size)\n",
    "\n",
    "    return E, V[:,0]\n"
   ]
  },
  {
   "cell_type": "code",
   "execution_count": 9,
   "metadata": {},
   "outputs": [],
   "source": [
    "import time"
   ]
  },
  {
   "cell_type": "code",
   "execution_count": 16,
   "metadata": {},
   "outputs": [
    {
     "name": "stdout",
     "output_type": "stream",
     "text": [
      "1048576\n",
      "finished in 0.0222 seconds\n",
      "[-16.72302491]\n"
     ]
    }
   ],
   "source": [
    "t0 = 0\n",
    "ham = 0\n",
    "eigen = 0\n",
    "start = time.perf_counter()\n",
    "# E, V, __ham, __eigen= isingstates(L = 6, eta = 0.6, c = 0, d = 0, U = 0, V = -3)\n",
    "E, V = isingstates(L = 10, h = 1.5)\n",
    "# ham += __ham\n",
    "# eigen += __eigen\n",
    "end = time.perf_counter()\n",
    "print(f\"finished in {end - start:0.4f} seconds\")\n",
    "# print(ham)\n",
    "# print(eigen)\n",
    "print(E)"
   ]
  }
 ],
 "metadata": {
  "kernelspec": {
   "display_name": "Python 3.9.7 ('base')",
   "language": "python",
   "name": "python3"
  },
  "language_info": {
   "codemirror_mode": {
    "name": "ipython",
    "version": 3
   },
   "file_extension": ".py",
   "mimetype": "text/x-python",
   "name": "python",
   "nbconvert_exporter": "python",
   "pygments_lexer": "ipython3",
   "version": "3.9.7"
  },
  "orig_nbformat": 4,
  "vscode": {
   "interpreter": {
    "hash": "93946cc149cc58ba370d99cb83fd58c78b028929cd28842c0bb04380b3d5cdb5"
   }
  }
 },
 "nbformat": 4,
 "nbformat_minor": 2
}
