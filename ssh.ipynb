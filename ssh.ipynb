{
 "cells": [
  {
   "cell_type": "code",
   "execution_count": 3,
   "metadata": {},
   "outputs": [],
   "source": [
    "from quspin.operators import hamiltonian # Hamiltonians and operators\n",
    "from quspin.basis import spinless_fermion_basis_1d # Hilbert space spin basis\n",
    "import numpy as np # generic math functions"
   ]
  },
  {
   "cell_type": "code",
   "execution_count": 4,
   "metadata": {},
   "outputs": [],
   "source": [
    "def states(L,h,J):\n",
    "    \n",
    "    L = 2 * L\n",
    "    basis=spinless_fermion_basis_1d(L)\n",
    "    eta = h\n",
    "    t = 1.0\n",
    "    mu = 0.9045\n",
    "    nsint = t * (1 + eta)\n",
    "    nuint = t * (1 - eta)\n",
    "\n",
    "    n1 = [[-mu,i] for i in range(0,L,2)]\n",
    "    n2 = [[-mu,(i+1)%L] for i in range(0,L,2)]\n",
    "    d1 = [[-nsint,i,(i+1)%L] for i in range(0,L,2)]\n",
    "    d2 = [[+nsint,i,(i+1)%L] for i in range(0,L,2)]\n",
    "    d3 = [[-nuint,(i+1)%L,(i+2)%L] for i in range(0,L,2)]\n",
    "    d4 = [[+nuint,(i+1)%L,(i+2)%L] for i in range(0,L,2)]\n",
    "\n",
    "    static=[[\"n\",n1],[\"n\",n2],[\"+-\",d1],[\"-+\",d2],[\"+-\",d3],[\"-+\",d4]]\n",
    "    dynamic=[]\n",
    "    # \n",
    "\n",
    "    H=hamiltonian(static, dynamic, basis=basis, dtype=np.float64)\n",
    "\n",
    "    E,V=H.eigh()\n",
    "\n",
    "    if E[0] == E[1]:\n",
    "        degen = 1\n",
    "    else:\n",
    "        degen = 0\n",
    "\n",
    "    return degen, V[:,0], d2, static\n"
   ]
  },
  {
   "cell_type": "code",
   "execution_count": 5,
   "metadata": {},
   "outputs": [
    {
     "name": "stdout",
     "output_type": "stream",
     "text": [
      "Hermiticity check passed!\n"
     ]
    },
    {
     "name": "stderr",
     "output_type": "stream",
     "text": [
      "/tmp/ipykernel_24069/361652601.py:22: UserWarning: Test for symmetries not implemented for <class 'quspin.basis.basis_1d.fermion.spinless_fermion_basis_1d'>, to turn off this warning set check_symm=False in hamiltonian\n",
      "  H=hamiltonian(static, dynamic, basis=basis, dtype=np.float64)\n"
     ]
    },
    {
     "name": "stdout",
     "output_type": "stream",
     "text": [
      "(256,)\n"
     ]
    },
    {
     "name": "stderr",
     "output_type": "stream",
     "text": [
      "/home/danielyct/anaconda3/lib/python3.9/site-packages/numpy/core/_asarray.py:171: VisibleDeprecationWarning: Creating an ndarray from ragged nested sequences (which is a list-or-tuple of lists-or-tuples-or ndarrays with different lengths or shapes) is deprecated. If you meant to do this, you must specify 'dtype=object' when creating the ndarray.\n",
      "  return array(a, dtype, copy=False, order=order, subok=True)\n"
     ]
    }
   ],
   "source": [
    "E, V, d, sta= states(4,0.1,1)\n",
    "# print(V)\n",
    "print(V.shape)\n",
    "np.save(\"test.npy\",sta)"
   ]
  },
  {
   "cell_type": "code",
   "execution_count": 30,
   "metadata": {},
   "outputs": [
    {
     "name": "stdout",
     "output_type": "stream",
     "text": [
      "[[0], [2]]\n"
     ]
    }
   ],
   "source": [
    "L =  4\n",
    "v = [[i] for i in range(0,L,2)]\n",
    "print(v)"
   ]
  }
 ],
 "metadata": {
  "kernelspec": {
   "display_name": "Python 3.9.7 ('base')",
   "language": "python",
   "name": "python3"
  },
  "language_info": {
   "codemirror_mode": {
    "name": "ipython",
    "version": 3
   },
   "file_extension": ".py",
   "mimetype": "text/x-python",
   "name": "python",
   "nbconvert_exporter": "python",
   "pygments_lexer": "ipython3",
   "version": "3.9.7"
  },
  "orig_nbformat": 4,
  "vscode": {
   "interpreter": {
    "hash": "93946cc149cc58ba370d99cb83fd58c78b028929cd28842c0bb04380b3d5cdb5"
   }
  }
 },
 "nbformat": 4,
 "nbformat_minor": 2
}
